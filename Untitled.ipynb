{
 "cells": [
  {
   "cell_type": "code",
   "execution_count": 77,
   "metadata": {},
   "outputs": [],
   "source": [
    "from bs4 import BeautifulSoup\n",
    "import re\n",
    "\n",
    "\n",
    "def get_unit_data(block):\n",
    "    soup = BeautifulSoup(\n",
    "        open(f\"./html_sources/{block}.html\"),\n",
    "        \"html.parser\"\n",
    "    )\n",
    "    units = soup.find(\"div\",{\"id\": \"blockDetails\"}).find_all(\"table\")[1].find(\"tbody\").find_all(\"td\")\n",
    "    price_regex = r\"^(\\$\\d+,\\d+)<br/>_*<br/>(\\d+)\"\n",
    "\n",
    "    units_details = []\n",
    "    \n",
    "    for unit in units:\n",
    "        detail = unit.find(\"font\").attrs\n",
    "        floor, unit_number = detail[\"id\"].split(\"-\")\n",
    "        price, area = re.findall(price_regex, detail[\"title\"])[0]\n",
    "        units_details.append({\n",
    "            \"block_number\": block,\n",
    "            \"floor\": floor,\n",
    "            \"unit_number\": unit_number,\n",
    "            \"price\": price,\n",
    "            \"area\": area,\n",
    "        })\n",
    "    return units_details"
   ]
  },
  {
   "cell_type": "code",
   "execution_count": 78,
   "metadata": {},
   "outputs": [],
   "source": [
    "data = []\n",
    "\n",
    "blocks = [\n",
    "    \"436A\",\n",
    "    \"436B\",\n",
    "    \"437A\",\n",
    "    \"437B\",\n",
    "    \"442A\",\n",
    "    \"443A\",\n",
    "    \"445A\",\n",
    "    \"445B\",\n",
    "]\n",
    "\n",
    "for block in blocks:\n",
    "    data.extend(get_unit_data(block))"
   ]
  },
  {
   "cell_type": "code",
   "execution_count": 79,
   "metadata": {},
   "outputs": [],
   "source": [
    "import pandas as pd\n",
    "\n",
    "df = pd.DataFrame(data)\n",
    "df.to_csv(\"prices.csv\")"
   ]
  },
  {
   "cell_type": "code",
   "execution_count": 80,
   "metadata": {},
   "outputs": [
    {
     "data": {
      "text/html": [
       "<div>\n",
       "<style scoped>\n",
       "    .dataframe tbody tr th:only-of-type {\n",
       "        vertical-align: middle;\n",
       "    }\n",
       "\n",
       "    .dataframe tbody tr th {\n",
       "        vertical-align: top;\n",
       "    }\n",
       "\n",
       "    .dataframe thead th {\n",
       "        text-align: right;\n",
       "    }\n",
       "</style>\n",
       "<table border=\"1\" class=\"dataframe\">\n",
       "  <thead>\n",
       "    <tr style=\"text-align: right;\">\n",
       "      <th></th>\n",
       "      <th>block_number</th>\n",
       "      <th>floor</th>\n",
       "      <th>unit_number</th>\n",
       "      <th>price</th>\n",
       "      <th>area</th>\n",
       "    </tr>\n",
       "  </thead>\n",
       "  <tbody>\n",
       "    <tr>\n",
       "      <th>0</th>\n",
       "      <td>436A</td>\n",
       "      <td>#02</td>\n",
       "      <td>1539</td>\n",
       "      <td>$436,000</td>\n",
       "      <td>113</td>\n",
       "    </tr>\n",
       "    <tr>\n",
       "      <th>1</th>\n",
       "      <td>436A</td>\n",
       "      <td>#03</td>\n",
       "      <td>1539</td>\n",
       "      <td>$442,900</td>\n",
       "      <td>113</td>\n",
       "    </tr>\n",
       "    <tr>\n",
       "      <th>2</th>\n",
       "      <td>436A</td>\n",
       "      <td>#04</td>\n",
       "      <td>1539</td>\n",
       "      <td>$449,800</td>\n",
       "      <td>113</td>\n",
       "    </tr>\n",
       "    <tr>\n",
       "      <th>3</th>\n",
       "      <td>436A</td>\n",
       "      <td>#05</td>\n",
       "      <td>1539</td>\n",
       "      <td>$456,700</td>\n",
       "      <td>113</td>\n",
       "    </tr>\n",
       "    <tr>\n",
       "      <th>4</th>\n",
       "      <td>436A</td>\n",
       "      <td>#06</td>\n",
       "      <td>1539</td>\n",
       "      <td>$461,300</td>\n",
       "      <td>113</td>\n",
       "    </tr>\n",
       "    <tr>\n",
       "      <th>...</th>\n",
       "      <td>...</td>\n",
       "      <td>...</td>\n",
       "      <td>...</td>\n",
       "      <td>...</td>\n",
       "      <td>...</td>\n",
       "    </tr>\n",
       "    <tr>\n",
       "      <th>398</th>\n",
       "      <td>445B</td>\n",
       "      <td>#04</td>\n",
       "      <td>746</td>\n",
       "      <td>$484,900</td>\n",
       "      <td>113</td>\n",
       "    </tr>\n",
       "    <tr>\n",
       "      <th>399</th>\n",
       "      <td>445B</td>\n",
       "      <td>#05</td>\n",
       "      <td>746</td>\n",
       "      <td>$492,300</td>\n",
       "      <td>113</td>\n",
       "    </tr>\n",
       "    <tr>\n",
       "      <th>400</th>\n",
       "      <td>445B</td>\n",
       "      <td>#06</td>\n",
       "      <td>746</td>\n",
       "      <td>$497,200</td>\n",
       "      <td>113</td>\n",
       "    </tr>\n",
       "    <tr>\n",
       "      <th>401</th>\n",
       "      <td>445B</td>\n",
       "      <td>#07</td>\n",
       "      <td>746</td>\n",
       "      <td>$502,100</td>\n",
       "      <td>113</td>\n",
       "    </tr>\n",
       "    <tr>\n",
       "      <th>402</th>\n",
       "      <td>445B</td>\n",
       "      <td>#08</td>\n",
       "      <td>746</td>\n",
       "      <td>$502,100</td>\n",
       "      <td>113</td>\n",
       "    </tr>\n",
       "  </tbody>\n",
       "</table>\n",
       "<p>403 rows × 5 columns</p>\n",
       "</div>"
      ],
      "text/plain": [
       "    block_number floor unit_number     price area\n",
       "0           436A   #02        1539  $436,000  113\n",
       "1           436A   #03        1539  $442,900  113\n",
       "2           436A   #04        1539  $449,800  113\n",
       "3           436A   #05        1539  $456,700  113\n",
       "4           436A   #06        1539  $461,300  113\n",
       "..           ...   ...         ...       ...  ...\n",
       "398         445B   #04         746  $484,900  113\n",
       "399         445B   #05         746  $492,300  113\n",
       "400         445B   #06         746  $497,200  113\n",
       "401         445B   #07         746  $502,100  113\n",
       "402         445B   #08         746  $502,100  113\n",
       "\n",
       "[403 rows x 5 columns]"
      ]
     },
     "execution_count": 80,
     "metadata": {},
     "output_type": "execute_result"
    }
   ],
   "source": [
    "df"
   ]
  },
  {
   "cell_type": "code",
   "execution_count": 41,
   "metadata": {},
   "outputs": [],
   "source": [
    "unit = soup.find(\"div\",{\"id\": \"blockDetails\"}).find_all(\"table\")[1].find(\"tbody\").find_all(\"td\")[0]"
   ]
  },
  {
   "cell_type": "code",
   "execution_count": 44,
   "metadata": {},
   "outputs": [
    {
     "data": {
      "text/plain": [
       "<td onclick=\"bookMarkCheck('','#02-1539')\" style=\"font-size:12px; text-align:center;\">\n",
       "<font class=\"e-more-info has-tip tip-bottom\" data-tooltip=\"\" data-width=\"150\" id=\"#02-1539\" title=\"$436,000&lt;br/&gt;____________________&lt;br/&gt;113 Sqm\">\n",
       "<a><font color=\"#000099\">#02-1539</font>\n",
       "<font color=\"#000099\" id=\"#02-1539bk\" style=\"display:none;\">+</font></a>\n",
       "</font>\n",
       "</td>"
      ]
     },
     "execution_count": 44,
     "metadata": {},
     "output_type": "execute_result"
    }
   ],
   "source": [
    "unit"
   ]
  },
  {
   "cell_type": "code",
   "execution_count": 56,
   "metadata": {},
   "outputs": [],
   "source": [
    "detail = unit.find(\"font\")"
   ]
  },
  {
   "cell_type": "code",
   "execution_count": 58,
   "metadata": {},
   "outputs": [
    {
     "data": {
      "text/plain": [
       "'$436,000<br/>____________________<br/>113\\xa0Sqm'"
      ]
     },
     "execution_count": 58,
     "metadata": {},
     "output_type": "execute_result"
    }
   ],
   "source": [
    "detail.attrs[\"title\"]"
   ]
  },
  {
   "cell_type": "code",
   "execution_count": 60,
   "metadata": {},
   "outputs": [
    {
     "data": {
      "text/plain": [
       "{'data-tooltip': '',\n",
       " 'data-width': '150',\n",
       " 'class': ['e-more-info', 'has-tip', 'tip-bottom'],\n",
       " 'title': '$436,000<br/>____________________<br/>113\\xa0Sqm',\n",
       " 'id': '#02-1539'}"
      ]
     },
     "execution_count": 60,
     "metadata": {},
     "output_type": "execute_result"
    }
   ],
   "source": [
    "detail.attrs"
   ]
  },
  {
   "cell_type": "code",
   "execution_count": 66,
   "metadata": {},
   "outputs": [
    {
     "ename": "AttributeError",
     "evalue": "module 're' has no attribute 'find'",
     "output_type": "error",
     "traceback": [
      "\u001b[0;31m---------------------------------------------------------------------------\u001b[0m",
      "\u001b[0;31mAttributeError\u001b[0m                            Traceback (most recent call last)",
      "\u001b[0;32m<ipython-input-66-5f2adb6c5318>\u001b[0m in \u001b[0;36m<module>\u001b[0;34m\u001b[0m\n\u001b[1;32m      4\u001b[0m \u001b[0;34m\u001b[0m\u001b[0m\n\u001b[1;32m      5\u001b[0m \u001b[0mtest_str\u001b[0m \u001b[0;34m=\u001b[0m \u001b[0;34m\"$436,000<br/>____________________<br/>113\\\\xa0Sqm\"\u001b[0m\u001b[0;34m\u001b[0m\u001b[0;34m\u001b[0m\u001b[0m\n\u001b[0;32m----> 6\u001b[0;31m \u001b[0mmatches\u001b[0m \u001b[0;34m=\u001b[0m \u001b[0mre\u001b[0m\u001b[0;34m.\u001b[0m\u001b[0mfind\u001b[0m\u001b[0;34m(\u001b[0m\u001b[0mregex\u001b[0m\u001b[0;34m,\u001b[0m \u001b[0mtest_str\u001b[0m\u001b[0;34m)\u001b[0m\u001b[0;34m\u001b[0m\u001b[0;34m\u001b[0m\u001b[0m\n\u001b[0m",
      "\u001b[0;31mAttributeError\u001b[0m: module 're' has no attribute 'find'"
     ]
    }
   ],
   "source": [
    "import re\n",
    "\n",
    "regex = r\"^(\\$\\d+,\\d+)<br/>_*<br/>(\\d+)\"\n",
    "\n",
    "test_str = \"$436,000<br/>____________________<br/>113\\\\xa0Sqm\"\n",
    "matches = re.find(regex, test_str)\n"
   ]
  },
  {
   "cell_type": "code",
   "execution_count": 67,
   "metadata": {},
   "outputs": [
    {
     "data": {
      "text/plain": [
       "[('$436,000', '113')]"
      ]
     },
     "execution_count": 67,
     "metadata": {},
     "output_type": "execute_result"
    }
   ],
   "source": [
    "matches"
   ]
  },
  {
   "cell_type": "code",
   "execution_count": null,
   "metadata": {},
   "outputs": [],
   "source": []
  }
 ],
 "metadata": {
  "kernelspec": {
   "display_name": "Python 3",
   "language": "python",
   "name": "python3"
  },
  "language_info": {
   "codemirror_mode": {
    "name": "ipython",
    "version": 3
   },
   "file_extension": ".py",
   "mimetype": "text/x-python",
   "name": "python",
   "nbconvert_exporter": "python",
   "pygments_lexer": "ipython3",
   "version": "3.7.3"
  }
 },
 "nbformat": 4,
 "nbformat_minor": 2
}
